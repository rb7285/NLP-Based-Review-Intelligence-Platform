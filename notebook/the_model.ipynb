{
 "cells": [
  {
   "cell_type": "markdown",
   "metadata": {},
   "source": [
    "#### Importing necessary libraries"
   ]
  },
  {
   "cell_type": "code",
   "execution_count": 2,
   "metadata": {},
   "outputs": [],
   "source": [
    "import pandas as pd\n",
    "import numpy as np\n",
    "import matplotlib.pyplot as plt\n",
    "import seaborn as sns\n",
    "import spacy\n",
    "plt.style.use('ggplot')\n",
    "import nltk\n",
    "\n",
    "nlp = spacy.load('en_core_web_sm')"
   ]
  },
  {
   "cell_type": "code",
   "execution_count": 3,
   "metadata": {},
   "outputs": [],
   "source": [
    "#loading the dataset\n",
    "data = pd.read_csv('Reviews.csv') "
   ]
  },
  {
   "cell_type": "code",
   "execution_count": 4,
   "metadata": {},
   "outputs": [
    {
     "data": {
      "text/plain": [
       "(500, 11)"
      ]
     },
     "execution_count": 4,
     "metadata": {},
     "output_type": "execute_result"
    }
   ],
   "source": [
    "df = data.sample(500, random_state=42).reset_index()\n",
    "df.shape"
   ]
  },
  {
   "cell_type": "markdown",
   "metadata": {},
   "source": [
    "BASIC NLTK FUNCTIONS"
   ]
  },
  {
   "cell_type": "code",
   "execution_count": 5,
   "metadata": {},
   "outputs": [
    {
     "data": {
      "text/plain": [
       "'With a legendary name like Gevalia, I was disappointed to find that the coffee contains artificial flavors.  The outside packaging looks gourmet and epicurean, with gold lettering.  Unfortunately, artificial flavoring also plainly occupies the front face.<br /><br />The aroma from the coffee is quite pleasant, however, after brewing, the coffee itself is nothing to write home about.  In fact, it tasted rather bitter.<br /><br />I would not buy this item.'"
      ]
     },
     "execution_count": 5,
     "metadata": {},
     "output_type": "execute_result"
    }
   ],
   "source": [
    "example = df.Text.values[50]\n",
    "example"
   ]
  },
  {
   "cell_type": "code",
   "execution_count": 6,
   "metadata": {},
   "outputs": [
    {
     "data": {
      "text/plain": [
       "['With',\n",
       " 'a',\n",
       " 'legendary',\n",
       " 'name',\n",
       " 'like',\n",
       " 'Gevalia',\n",
       " ',',\n",
       " 'I',\n",
       " 'was',\n",
       " 'disappointed']"
      ]
     },
     "execution_count": 6,
     "metadata": {},
     "output_type": "execute_result"
    }
   ],
   "source": [
    "# tokenizing\n",
    "tokens = nltk.word_tokenize(example)\n",
    "tokens[:10]"
   ]
  },
  {
   "cell_type": "code",
   "execution_count": 7,
   "metadata": {},
   "outputs": [
    {
     "data": {
      "text/plain": [
       "[('With', 'IN'),\n",
       " ('a', 'DT'),\n",
       " ('legendary', 'JJ'),\n",
       " ('name', 'NN'),\n",
       " ('like', 'IN'),\n",
       " ('Gevalia', 'NNP'),\n",
       " (',', ','),\n",
       " ('I', 'PRP'),\n",
       " ('was', 'VBD'),\n",
       " ('disappointed', 'VBN')]"
      ]
     },
     "execution_count": 7,
     "metadata": {},
     "output_type": "execute_result"
    }
   ],
   "source": [
    "# extracting parts of speech tags\n",
    "tagged = nltk.pos_tag(tokens)\n",
    "tagged[:10]"
   ]
  },
  {
   "cell_type": "code",
   "execution_count": 8,
   "metadata": {},
   "outputs": [
    {
     "name": "stdout",
     "output_type": "stream",
     "text": [
      "legendary like Gevalia disappointed find coffee contains artificial flavors   outside packaging looks gourmet epicurean gold lettering   Unfortunately artificial flavoring plainly occupies face.<br /><br />The aroma coffee pleasant brewing coffee write home   fact tasted bitter.<br /><br />I buy item\n"
     ]
    }
   ],
   "source": [
    "# Removing stop words and punctuations\n",
    "doc = nlp(example)\n",
    "clean_example = []\n",
    "for token in doc:\n",
    "    if token.is_stop or token.is_punct:\n",
    "        continue\n",
    "    clean_example.append(str(token))\n",
    "    clean = ' '.join(clean_example)\n",
    "print(clean)"
   ]
  },
  {
   "cell_type": "markdown",
   "metadata": {},
   "source": [
    "### **ANALYSIS OF THE VADER MODEL**"
   ]
  },
  {
   "cell_type": "code",
   "execution_count": 9,
   "metadata": {},
   "outputs": [],
   "source": [
    "from nltk.sentiment import SentimentIntensityAnalyzer\n",
    "from tqdm.notebook import tqdm\n",
    "sia = SentimentIntensityAnalyzer()"
   ]
  },
  {
   "cell_type": "code",
   "execution_count": 10,
   "metadata": {},
   "outputs": [
    {
     "name": "stdout",
     "output_type": "stream",
     "text": [
      "{'neg': 0.0, 'neu': 0.79, 'pos': 0.21, 'compound': 0.4926}\n"
     ]
    }
   ],
   "source": [
    "from nltk.sentiment import SentimentIntensityAnalyzer\n",
    "sia = SentimentIntensityAnalyzer()\n",
    "\n",
    "intensity = sia.polarity_scores('Jeez, this stuff tastes kinda flat and a bit burned!, do better next time')\n",
    "print(intensity)"
   ]
  },
  {
   "cell_type": "code",
   "execution_count": 11,
   "metadata": {},
   "outputs": [
    {
     "data": {
      "application/vnd.jupyter.widget-view+json": {
       "model_id": "42c8f0980a69497e8ecfa416d7ddf883",
       "version_major": 2,
       "version_minor": 0
      },
      "text/plain": [
       "  0%|          | 0/500 [00:00<?, ?it/s]"
      ]
     },
     "metadata": {},
     "output_type": "display_data"
    }
   ],
   "source": [
    "# creating a dict- res, that contains the polarity scores for each Text with the row id as the index\n",
    "res = {}\n",
    "\n",
    "for i,j in tqdm(df.iterrows(), total=len(df)):\n",
    "    text = j.Text\n",
    "    id = j.Id\n",
    "    \n",
    "    res[id] = sia.polarity_scores(text)\n"
   ]
  },
  {
   "cell_type": "code",
   "execution_count": 12,
   "metadata": {},
   "outputs": [
    {
     "data": {
      "text/html": [
       "<div>\n",
       "<style scoped>\n",
       "    .dataframe tbody tr th:only-of-type {\n",
       "        vertical-align: middle;\n",
       "    }\n",
       "\n",
       "    .dataframe tbody tr th {\n",
       "        vertical-align: top;\n",
       "    }\n",
       "\n",
       "    .dataframe thead th {\n",
       "        text-align: right;\n",
       "    }\n",
       "</style>\n",
       "<table border=\"1\" class=\"dataframe\">\n",
       "  <thead>\n",
       "    <tr style=\"text-align: right;\">\n",
       "      <th></th>\n",
       "      <th>Id</th>\n",
       "      <th>vader_neg</th>\n",
       "      <th>vader_neu</th>\n",
       "      <th>vader_pos</th>\n",
       "      <th>vader_compound</th>\n",
       "      <th>index</th>\n",
       "      <th>ProductId</th>\n",
       "      <th>UserId</th>\n",
       "      <th>ProfileName</th>\n",
       "      <th>HelpfulnessNumerator</th>\n",
       "      <th>HelpfulnessDenominator</th>\n",
       "      <th>Score</th>\n",
       "      <th>Time</th>\n",
       "      <th>Summary</th>\n",
       "      <th>Text</th>\n",
       "    </tr>\n",
       "  </thead>\n",
       "  <tbody>\n",
       "    <tr>\n",
       "      <th>0</th>\n",
       "      <td>165257</td>\n",
       "      <td>0.000</td>\n",
       "      <td>0.768</td>\n",
       "      <td>0.232</td>\n",
       "      <td>0.9684</td>\n",
       "      <td>165256</td>\n",
       "      <td>B000EVG8J2</td>\n",
       "      <td>A1L01D2BD3RKVO</td>\n",
       "      <td>B. Miller \"pet person\"</td>\n",
       "      <td>0</td>\n",
       "      <td>0</td>\n",
       "      <td>5</td>\n",
       "      <td>1268179200</td>\n",
       "      <td>Crunchy &amp; Good Gluten-Free Sandwich Cookies!</td>\n",
       "      <td>Having tried a couple of other brands of glute...</td>\n",
       "    </tr>\n",
       "    <tr>\n",
       "      <th>1</th>\n",
       "      <td>231466</td>\n",
       "      <td>0.089</td>\n",
       "      <td>0.766</td>\n",
       "      <td>0.144</td>\n",
       "      <td>0.7920</td>\n",
       "      <td>231465</td>\n",
       "      <td>B0000BXJIS</td>\n",
       "      <td>A3U62RE5XZDP0G</td>\n",
       "      <td>Marty</td>\n",
       "      <td>0</td>\n",
       "      <td>0</td>\n",
       "      <td>5</td>\n",
       "      <td>1298937600</td>\n",
       "      <td>great kitty treats</td>\n",
       "      <td>My cat loves these treats. If ever I can't fin...</td>\n",
       "    </tr>\n",
       "    <tr>\n",
       "      <th>2</th>\n",
       "      <td>427828</td>\n",
       "      <td>0.000</td>\n",
       "      <td>0.880</td>\n",
       "      <td>0.120</td>\n",
       "      <td>0.4588</td>\n",
       "      <td>427827</td>\n",
       "      <td>B008FHUFAU</td>\n",
       "      <td>AOXC0JQQZGGB6</td>\n",
       "      <td>Kenneth Shevlin</td>\n",
       "      <td>0</td>\n",
       "      <td>2</td>\n",
       "      <td>3</td>\n",
       "      <td>1224028800</td>\n",
       "      <td>COFFEE TASTE</td>\n",
       "      <td>A little less than I expected.  It tends to ha...</td>\n",
       "    </tr>\n",
       "    <tr>\n",
       "      <th>3</th>\n",
       "      <td>433955</td>\n",
       "      <td>0.009</td>\n",
       "      <td>0.827</td>\n",
       "      <td>0.163</td>\n",
       "      <td>0.9923</td>\n",
       "      <td>433954</td>\n",
       "      <td>B006BXV14E</td>\n",
       "      <td>A3PWPNZVMNX3PA</td>\n",
       "      <td>rareoopdvds</td>\n",
       "      <td>0</td>\n",
       "      <td>1</td>\n",
       "      <td>2</td>\n",
       "      <td>1335312000</td>\n",
       "      <td>So the Mini-Wheats were too big?</td>\n",
       "      <td>First there was Frosted Mini-Wheats, in origin...</td>\n",
       "    </tr>\n",
       "    <tr>\n",
       "      <th>4</th>\n",
       "      <td>70261</td>\n",
       "      <td>0.089</td>\n",
       "      <td>0.719</td>\n",
       "      <td>0.191</td>\n",
       "      <td>0.9421</td>\n",
       "      <td>70260</td>\n",
       "      <td>B007I7Z3Z0</td>\n",
       "      <td>A1XNZ7PCE45KK7</td>\n",
       "      <td>Og8ys1</td>\n",
       "      <td>0</td>\n",
       "      <td>2</td>\n",
       "      <td>5</td>\n",
       "      <td>1334707200</td>\n",
       "      <td>Great Taste . . .</td>\n",
       "      <td>and I want to congratulate the graphic artist ...</td>\n",
       "    </tr>\n",
       "  </tbody>\n",
       "</table>\n",
       "</div>"
      ],
      "text/plain": [
       "       Id  vader_neg  vader_neu  vader_pos  vader_compound   index  \\\n",
       "0  165257      0.000      0.768      0.232          0.9684  165256   \n",
       "1  231466      0.089      0.766      0.144          0.7920  231465   \n",
       "2  427828      0.000      0.880      0.120          0.4588  427827   \n",
       "3  433955      0.009      0.827      0.163          0.9923  433954   \n",
       "4   70261      0.089      0.719      0.191          0.9421   70260   \n",
       "\n",
       "    ProductId          UserId             ProfileName  HelpfulnessNumerator  \\\n",
       "0  B000EVG8J2  A1L01D2BD3RKVO  B. Miller \"pet person\"                     0   \n",
       "1  B0000BXJIS  A3U62RE5XZDP0G                   Marty                     0   \n",
       "2  B008FHUFAU   AOXC0JQQZGGB6         Kenneth Shevlin                     0   \n",
       "3  B006BXV14E  A3PWPNZVMNX3PA             rareoopdvds                     0   \n",
       "4  B007I7Z3Z0  A1XNZ7PCE45KK7                  Og8ys1                     0   \n",
       "\n",
       "   HelpfulnessDenominator  Score        Time  \\\n",
       "0                       0      5  1268179200   \n",
       "1                       0      5  1298937600   \n",
       "2                       2      3  1224028800   \n",
       "3                       1      2  1335312000   \n",
       "4                       2      5  1334707200   \n",
       "\n",
       "                                        Summary  \\\n",
       "0  Crunchy & Good Gluten-Free Sandwich Cookies!   \n",
       "1                            great kitty treats   \n",
       "2                                  COFFEE TASTE   \n",
       "3              So the Mini-Wheats were too big?   \n",
       "4                             Great Taste . . .   \n",
       "\n",
       "                                                Text  \n",
       "0  Having tried a couple of other brands of glute...  \n",
       "1  My cat loves these treats. If ever I can't fin...  \n",
       "2  A little less than I expected.  It tends to ha...  \n",
       "3  First there was Frosted Mini-Wheats, in origin...  \n",
       "4  and I want to congratulate the graphic artist ...  "
      ]
     },
     "execution_count": 12,
     "metadata": {},
     "output_type": "execute_result"
    }
   ],
   "source": [
    "vaders = pd.DataFrame(res).T\n",
    "vaders = vaders.reset_index().rename(columns={'index':'Id','neg':'vader_neg','neu':'vader_neu','pos':'vader_pos','compound':'vader_compound'})\n",
    "vaders = vaders.merge(df, how='left')\n",
    "vaders.head()"
   ]
  },
  {
   "cell_type": "code",
   "execution_count": 19,
   "metadata": {},
   "outputs": [
    {
     "data": {
      "text/plain": [
       "'Having tried a couple of other brands of gluten-free sandwich cookies, these are the best of the bunch.  They\\'re crunchy and true to the texture of the other \"real\" cookies that aren\\'t gluten-free.  Some might think that the filling makes them a bit too sweet, but for me that just means I\\'ve satisfied my sweet tooth sooner!  The chocolate version from Glutino is just as good and has a true \"chocolatey\" taste - something that isn\\'t there with the other gluten-free brands out there.'"
      ]
     },
     "execution_count": 19,
     "metadata": {},
     "output_type": "execute_result"
    }
   ],
   "source": [
    "vaders.Text.values[0]"
   ]
  },
  {
   "cell_type": "code",
   "execution_count": 13,
   "metadata": {},
   "outputs": [
    {
     "data": {
      "text/plain": [
       "Text(0, 0.5, 'Average VADER polarity score')"
      ]
     },
     "execution_count": 13,
     "metadata": {},
     "output_type": "execute_result"
    },
    {
     "data": {
      "image/png": "[encoded data removed]",
      "text/plain": [
       "<Figure size 640x480 with 1 Axes>"
      ]
     },
     "metadata": {},
     "output_type": "display_data"
    }
   ],
   "source": [
    "sns.barplot(data=vaders,x='Score', y='vader_compound' ) \n",
    "plt.xlabel('User Score')\n",
    "plt.ylabel('Average VADER polarity score')"
   ]
  },
  {
   "cell_type": "markdown",
   "metadata": {},
   "source": [
    "> Observation\n",
    "> * The chart above shows the average polarity score by the user sentiment. This implies that the VADER model performs very well generally in classifying the sentiment of the reviews\n",
    "___"
   ]
  },
  {
   "cell_type": "markdown",
   "metadata": {},
   "source": [
    "#### **PERFORMANCE BY SENTIMENT**"
   ]
  },
  {
   "cell_type": "code",
   "execution_count": 14,
   "metadata": {},
   "outputs": [
    {
     "data": {
      "image/png": "[encoded data removed]",
      "text/plain": [
       "<Figure size 1300x500 with 3 Axes>"
      ]
     },
     "metadata": {},
     "output_type": "display_data"
    }
   ],
   "source": [
    "fig, ax = plt.subplots(1,3, figsize=(13,5))\n",
    "sns.barplot(data=vaders, x='Score', y='vader_pos', ax=ax[0])\n",
    "sns.barplot(data=vaders, x='Score', y='vader_neu', ax=ax[1])\n",
    "sns.barplot(data=vaders, x='Score', y='vader_neg', ax=ax[2])\n",
    "ax[0].set_title('Positive')\n",
    "ax[1].set_title('Neutral')\n",
    "ax[2].set_title('Negative')\n",
    "plt.tight_layout()"
   ]
  },
  {
   "cell_type": "markdown",
   "metadata": {},
   "source": [
    "**Inferences**\n",
    "* The steady increase in the height of the bars shows that the positive vader scores increases as the user Score increases implying the VADER model performs fine\n",
    "* The steady decrease in the height of the bars shows that the negative vader scores decreases as the user Score increases implying the VADER model performs fine in identifying negative sentiment\n",
    "* The steady progression in the neutral scores shows neutrality through out the scores\n",
    "___"
   ]
  },
  {
   "cell_type": "markdown",
   "metadata": {},
   "source": [
    "## **ANALYSIS OF THE roBERTa MODEL**\n",
    "\n",
    "* Uses a model trained on large corpus of data\n",
    "* Transformer models accounts for the words but also the overall context of a word in a sentence"
   ]
  },
  {
   "cell_type": "code",
   "execution_count": 15,
   "metadata": {},
   "outputs": [],
   "source": [
    "from transformers import AutoTokenizer # advanced tokenizer by hugging face\n",
    "from transformers import AutoModelForSequenceClassification\n",
    "from scipy.special import softmax # smoothen the output between 0 and 1"
   ]
  },
  {
   "cell_type": "markdown",
   "metadata": {},
   "source": [
    "A pretrained model by hugging face that has been trained on millions of labelled twitter comments, is used in this case\n",
    "\n",
    "Transfer learning is utilized to pull the trained weights from the model"
   ]
  },
  {
   "cell_type": "code",
   "execution_count": null,
   "metadata": {},
   "outputs": [],
   "source": []
  },
  {
   "cell_type": "code",
   "execution_count": 16,
   "metadata": {},
   "outputs": [],
   "source": [
    "# Save the model and tokenizer to a directory\n",
    "#save_directory = r\"C:\\Users\\HP\\Documents\\NLP\\saved_model\"\n",
    "#tokenizer.save_pretrained(save_directory)\n",
    "#model.save_pretrained(save_directory)"
   ]
  },
  {
   "cell_type": "code",
   "execution_count": null,
   "metadata": {},
   "outputs": [],
   "source": [
    "model_path = r\"C:\\Users\\HP\\Documents\\NLP\\model\"\n",
    "\n",
    "tokenizer = AutoTokenizer.from_pretrained(model_path)\n",
    "model = AutoModelForSequenceClassification.from_pretrained(model_path)"
   ]
  },
  {
   "cell_type": "code",
   "execution_count": 21,
   "metadata": {},
   "outputs": [],
   "source": [
    "# A function that returns the sentiment probabilities on a text\n",
    "def polarity_scores_roberta(example):\n",
    "    encoded_text = tokenizer(example, return_tensors='pt')\n",
    "    output = model(**encoded_text)\n",
    "    scores = output[0][0].detach().numpy()\n",
    "    scores = softmax(scores)\n",
    "    scores_dict = {\n",
    "        'roberta_neg' : scores[0],\n",
    "        'roberta_neu' : scores[1],\n",
    "        'roberta_pos' : scores[2]\n",
    "    }\n",
    "    return scores_dict"
   ]
  },
  {
   "cell_type": "code",
   "execution_count": 5,
   "metadata": {},
   "outputs": [
    {
     "data": {
      "text/plain": [
       "{'negative': 0.7099925, 'neutral': 0.25968018, 'positive': 0.030327285}"
      ]
     },
     "execution_count": 5,
     "metadata": {},
     "output_type": "execute_result"
    }
   ],
   "source": [
    "encode_text = tokenizer('do not come again please', return_tensors='pt')\n",
    "output = model(**encode_text)\n",
    "scores = output[0][0].detach().numpy()\n",
    "scores = softmax(scores)\n",
    "scores_dict = {\n",
    "    'negative' : scores[0],\n",
    "    'neutral' : scores[1],\n",
    "    'positive' : scores[2]\n",
    "}\n",
    "scores_dict"
   ]
  },
  {
   "cell_type": "code",
   "execution_count": 60,
   "metadata": {},
   "outputs": [
    {
     "data": {
      "text/plain": [
       "'positive'"
      ]
     },
     "execution_count": 60,
     "metadata": {},
     "output_type": "execute_result"
    }
   ],
   "source": [
    "max_key = max(scores_dict, key=scores_dict.get)\n",
    "max_value = scores_dict[max_key]"
   ]
  },
  {
   "cell_type": "code",
   "execution_count": 22,
   "metadata": {},
   "outputs": [
    {
     "data": {
      "application/vnd.jupyter.widget-view+json": {
       "model_id": "bafdacc96bf946818241d56ca0d5b872",
       "version_major": 2,
       "version_minor": 0
      },
      "text/plain": [
       "  0%|          | 0/500 [00:00<?, ?it/s]"
      ]
     },
     "metadata": {},
     "output_type": "display_data"
    },
    {
     "name": "stdout",
     "output_type": "stream",
     "text": [
      "Broke for id 184619\n",
      "Broke for id 31994\n",
      "Broke for id 171315\n",
      "Broke for id 149020\n"
     ]
    }
   ],
   "source": [
    "res = {}\n",
    "for i, row in tqdm(vaders.iterrows(), total=len(vaders)):\n",
    "    try:\n",
    "        text = row['Text']\n",
    "        myid = row['Id']\n",
    "        roberta_result = polarity_scores_roberta(text)\n",
    "        res[myid] = roberta_result\n",
    "    except RuntimeError:\n",
    "        print(f'Broke for id {myid}')"
   ]
  },
  {
   "cell_type": "code",
   "execution_count": 23,
   "metadata": {},
   "outputs": [],
   "source": [
    "results_df = pd.DataFrame(res).T\n",
    "results_df = results_df.reset_index().rename(columns={'index': 'Id'})\n",
    "results_df = results_df.merge(vaders, how='left')"
   ]
  },
  {
   "cell_type": "code",
   "execution_count": 24,
   "metadata": {},
   "outputs": [
    {
     "data": {
      "text/html": [
       "<div>\n",
       "<style scoped>\n",
       "    .dataframe tbody tr th:only-of-type {\n",
       "        vertical-align: middle;\n",
       "    }\n",
       "\n",
       "    .dataframe tbody tr th {\n",
       "        vertical-align: top;\n",
       "    }\n",
       "\n",
       "    .dataframe thead th {\n",
       "        text-align: right;\n",
       "    }\n",
       "</style>\n",
       "<table border=\"1\" class=\"dataframe\">\n",
       "  <thead>\n",
       "    <tr style=\"text-align: right;\">\n",
       "      <th></th>\n",
       "      <th>Id</th>\n",
       "      <th>roberta_neg</th>\n",
       "      <th>roberta_neu</th>\n",
       "      <th>roberta_pos</th>\n",
       "      <th>vader_neg</th>\n",
       "      <th>vader_neu</th>\n",
       "      <th>vader_pos</th>\n",
       "      <th>vader_compound</th>\n",
       "      <th>Score</th>\n",
       "      <th>Time</th>\n",
       "      <th>Summary</th>\n",
       "      <th>Text</th>\n",
       "    </tr>\n",
       "  </thead>\n",
       "  <tbody>\n",
       "    <tr>\n",
       "      <th>0</th>\n",
       "      <td>165257</td>\n",
       "      <td>0.006664</td>\n",
       "      <td>0.051202</td>\n",
       "      <td>0.942134</td>\n",
       "      <td>0.000</td>\n",
       "      <td>0.768</td>\n",
       "      <td>0.232</td>\n",
       "      <td>0.9684</td>\n",
       "      <td>5</td>\n",
       "      <td>1268179200</td>\n",
       "      <td>Crunchy &amp; Good Gluten-Free Sandwich Cookies!</td>\n",
       "      <td>Having tried a couple of other brands of glute...</td>\n",
       "    </tr>\n",
       "    <tr>\n",
       "      <th>1</th>\n",
       "      <td>231466</td>\n",
       "      <td>0.012858</td>\n",
       "      <td>0.064116</td>\n",
       "      <td>0.923026</td>\n",
       "      <td>0.089</td>\n",
       "      <td>0.766</td>\n",
       "      <td>0.144</td>\n",
       "      <td>0.7920</td>\n",
       "      <td>5</td>\n",
       "      <td>1298937600</td>\n",
       "      <td>great kitty treats</td>\n",
       "      <td>My cat loves these treats. If ever I can't fin...</td>\n",
       "    </tr>\n",
       "    <tr>\n",
       "      <th>2</th>\n",
       "      <td>427828</td>\n",
       "      <td>0.674685</td>\n",
       "      <td>0.295431</td>\n",
       "      <td>0.029884</td>\n",
       "      <td>0.000</td>\n",
       "      <td>0.880</td>\n",
       "      <td>0.120</td>\n",
       "      <td>0.4588</td>\n",
       "      <td>3</td>\n",
       "      <td>1224028800</td>\n",
       "      <td>COFFEE TASTE</td>\n",
       "      <td>A little less than I expected.  It tends to ha...</td>\n",
       "    </tr>\n",
       "    <tr>\n",
       "      <th>3</th>\n",
       "      <td>433955</td>\n",
       "      <td>0.077575</td>\n",
       "      <td>0.643972</td>\n",
       "      <td>0.278453</td>\n",
       "      <td>0.009</td>\n",
       "      <td>0.827</td>\n",
       "      <td>0.163</td>\n",
       "      <td>0.9923</td>\n",
       "      <td>2</td>\n",
       "      <td>1335312000</td>\n",
       "      <td>So the Mini-Wheats were too big?</td>\n",
       "      <td>First there was Frosted Mini-Wheats, in origin...</td>\n",
       "    </tr>\n",
       "    <tr>\n",
       "      <th>4</th>\n",
       "      <td>70261</td>\n",
       "      <td>0.008609</td>\n",
       "      <td>0.034906</td>\n",
       "      <td>0.956485</td>\n",
       "      <td>0.089</td>\n",
       "      <td>0.719</td>\n",
       "      <td>0.191</td>\n",
       "      <td>0.9421</td>\n",
       "      <td>5</td>\n",
       "      <td>1334707200</td>\n",
       "      <td>Great Taste . . .</td>\n",
       "      <td>and I want to congratulate the graphic artist ...</td>\n",
       "    </tr>\n",
       "    <tr>\n",
       "      <th>...</th>\n",
       "      <td>...</td>\n",
       "      <td>...</td>\n",
       "      <td>...</td>\n",
       "      <td>...</td>\n",
       "      <td>...</td>\n",
       "      <td>...</td>\n",
       "      <td>...</td>\n",
       "      <td>...</td>\n",
       "      <td>...</td>\n",
       "      <td>...</td>\n",
       "      <td>...</td>\n",
       "      <td>...</td>\n",
       "    </tr>\n",
       "    <tr>\n",
       "      <th>491</th>\n",
       "      <td>240528</td>\n",
       "      <td>0.014320</td>\n",
       "      <td>0.107624</td>\n",
       "      <td>0.878056</td>\n",
       "      <td>0.000</td>\n",
       "      <td>0.794</td>\n",
       "      <td>0.206</td>\n",
       "      <td>0.9296</td>\n",
       "      <td>5</td>\n",
       "      <td>1297987200</td>\n",
       "      <td>excellent sugar substitute</td>\n",
       "      <td>Xylitol looks and acts so much more like real ...</td>\n",
       "    </tr>\n",
       "    <tr>\n",
       "      <th>492</th>\n",
       "      <td>401662</td>\n",
       "      <td>0.201713</td>\n",
       "      <td>0.635300</td>\n",
       "      <td>0.162987</td>\n",
       "      <td>0.028</td>\n",
       "      <td>0.891</td>\n",
       "      <td>0.080</td>\n",
       "      <td>0.9447</td>\n",
       "      <td>5</td>\n",
       "      <td>1214352000</td>\n",
       "      <td>Lives up to its name</td>\n",
       "      <td>My grandpa used to tell stories about eating t...</td>\n",
       "    </tr>\n",
       "    <tr>\n",
       "      <th>493</th>\n",
       "      <td>321503</td>\n",
       "      <td>0.008396</td>\n",
       "      <td>0.024344</td>\n",
       "      <td>0.967260</td>\n",
       "      <td>0.234</td>\n",
       "      <td>0.601</td>\n",
       "      <td>0.165</td>\n",
       "      <td>-0.3187</td>\n",
       "      <td>5</td>\n",
       "      <td>1299024000</td>\n",
       "      <td>Great coffee!</td>\n",
       "      <td>Very smooth, never bitter. Wonderful for me be...</td>\n",
       "    </tr>\n",
       "    <tr>\n",
       "      <th>494</th>\n",
       "      <td>163041</td>\n",
       "      <td>0.043963</td>\n",
       "      <td>0.104653</td>\n",
       "      <td>0.851384</td>\n",
       "      <td>0.000</td>\n",
       "      <td>0.636</td>\n",
       "      <td>0.364</td>\n",
       "      <td>0.9849</td>\n",
       "      <td>4</td>\n",
       "      <td>1345939200</td>\n",
       "      <td>Great product...</td>\n",
       "      <td>I really like this tea, but the bags are packe...</td>\n",
       "    </tr>\n",
       "    <tr>\n",
       "      <th>495</th>\n",
       "      <td>373598</td>\n",
       "      <td>0.014211</td>\n",
       "      <td>0.049292</td>\n",
       "      <td>0.936497</td>\n",
       "      <td>0.110</td>\n",
       "      <td>0.770</td>\n",
       "      <td>0.120</td>\n",
       "      <td>0.2021</td>\n",
       "      <td>5</td>\n",
       "      <td>1334793600</td>\n",
       "      <td>mint juleps made easy</td>\n",
       "      <td>My brother got me hooked on mint juleps last s...</td>\n",
       "    </tr>\n",
       "  </tbody>\n",
       "</table>\n",
       "<p>496 rows × 12 columns</p>\n",
       "</div>"
      ],
      "text/plain": [
       "         Id  roberta_neg  roberta_neu  roberta_pos  vader_neg  vader_neu  \\\n",
       "0    165257     0.006664     0.051202     0.942134      0.000      0.768   \n",
       "1    231466     0.012858     0.064116     0.923026      0.089      0.766   \n",
       "2    427828     0.674685     0.295431     0.029884      0.000      0.880   \n",
       "3    433955     0.077575     0.643972     0.278453      0.009      0.827   \n",
       "4     70261     0.008609     0.034906     0.956485      0.089      0.719   \n",
       "..      ...          ...          ...          ...        ...        ...   \n",
       "491  240528     0.014320     0.107624     0.878056      0.000      0.794   \n",
       "492  401662     0.201713     0.635300     0.162987      0.028      0.891   \n",
       "493  321503     0.008396     0.024344     0.967260      0.234      0.601   \n",
       "494  163041     0.043963     0.104653     0.851384      0.000      0.636   \n",
       "495  373598     0.014211     0.049292     0.936497      0.110      0.770   \n",
       "\n",
       "     vader_pos  vader_compound  Score        Time  \\\n",
       "0        0.232          0.9684      5  1268179200   \n",
       "1        0.144          0.7920      5  1298937600   \n",
       "2        0.120          0.4588      3  1224028800   \n",
       "3        0.163          0.9923      2  1335312000   \n",
       "4        0.191          0.9421      5  1334707200   \n",
       "..         ...             ...    ...         ...   \n",
       "491      0.206          0.9296      5  1297987200   \n",
       "492      0.080          0.9447      5  1214352000   \n",
       "493      0.165         -0.3187      5  1299024000   \n",
       "494      0.364          0.9849      4  1345939200   \n",
       "495      0.120          0.2021      5  1334793600   \n",
       "\n",
       "                                          Summary  \\\n",
       "0    Crunchy & Good Gluten-Free Sandwich Cookies!   \n",
       "1                              great kitty treats   \n",
       "2                                    COFFEE TASTE   \n",
       "3                So the Mini-Wheats were too big?   \n",
       "4                               Great Taste . . .   \n",
       "..                                            ...   \n",
       "491                    excellent sugar substitute   \n",
       "492                          Lives up to its name   \n",
       "493                                 Great coffee!   \n",
       "494                              Great product...   \n",
       "495                         mint juleps made easy   \n",
       "\n",
       "                                                  Text  \n",
       "0    Having tried a couple of other brands of glute...  \n",
       "1    My cat loves these treats. If ever I can't fin...  \n",
       "2    A little less than I expected.  It tends to ha...  \n",
       "3    First there was Frosted Mini-Wheats, in origin...  \n",
       "4    and I want to congratulate the graphic artist ...  \n",
       "..                                                 ...  \n",
       "491  Xylitol looks and acts so much more like real ...  \n",
       "492  My grandpa used to tell stories about eating t...  \n",
       "493  Very smooth, never bitter. Wonderful for me be...  \n",
       "494  I really like this tea, but the bags are packe...  \n",
       "495  My brother got me hooked on mint juleps last s...  \n",
       "\n",
       "[496 rows x 12 columns]"
      ]
     },
     "execution_count": 24,
     "metadata": {},
     "output_type": "execute_result"
    }
   ],
   "source": [
    "# lets drop the columns that are not helpful\n",
    "results_df = results_df.drop(columns=['index', 'ProductId',\n",
    "       'UserId', 'ProfileName', 'HelpfulnessNumerator',\n",
    "       'HelpfulnessDenominator'])\n",
    "results_df"
   ]
  },
  {
   "cell_type": "code",
   "execution_count": 25,
   "metadata": {},
   "outputs": [],
   "source": [
    "results_df.to_csv('vader.csv', index=False)"
   ]
  },
  {
   "cell_type": "code",
   "execution_count": 26,
   "metadata": {},
   "outputs": [
    {
     "data": {
      "text/html": [
       "<div>\n",
       "<style scoped>\n",
       "    .dataframe tbody tr th:only-of-type {\n",
       "        vertical-align: middle;\n",
       "    }\n",
       "\n",
       "    .dataframe tbody tr th {\n",
       "        vertical-align: top;\n",
       "    }\n",
       "\n",
       "    .dataframe thead th {\n",
       "        text-align: right;\n",
       "    }\n",
       "</style>\n",
       "<table border=\"1\" class=\"dataframe\">\n",
       "  <thead>\n",
       "    <tr style=\"text-align: right;\">\n",
       "      <th></th>\n",
       "      <th>Id</th>\n",
       "      <th>roberta_neg</th>\n",
       "      <th>roberta_neu</th>\n",
       "      <th>roberta_pos</th>\n",
       "      <th>vader_neg</th>\n",
       "      <th>vader_neu</th>\n",
       "      <th>vader_pos</th>\n",
       "      <th>vader_compound</th>\n",
       "      <th>Score</th>\n",
       "      <th>Time</th>\n",
       "      <th>Summary</th>\n",
       "      <th>Text</th>\n",
       "    </tr>\n",
       "  </thead>\n",
       "  <tbody>\n",
       "    <tr>\n",
       "      <th>0</th>\n",
       "      <td>165257</td>\n",
       "      <td>0.006664</td>\n",
       "      <td>0.051202</td>\n",
       "      <td>0.942134</td>\n",
       "      <td>0.000</td>\n",
       "      <td>0.768</td>\n",
       "      <td>0.232</td>\n",
       "      <td>0.9684</td>\n",
       "      <td>5</td>\n",
       "      <td>1268179200</td>\n",
       "      <td>Crunchy &amp; Good Gluten-Free Sandwich Cookies!</td>\n",
       "      <td>Having tried a couple of other brands of glute...</td>\n",
       "    </tr>\n",
       "    <tr>\n",
       "      <th>1</th>\n",
       "      <td>231466</td>\n",
       "      <td>0.012858</td>\n",
       "      <td>0.064116</td>\n",
       "      <td>0.923026</td>\n",
       "      <td>0.089</td>\n",
       "      <td>0.766</td>\n",
       "      <td>0.144</td>\n",
       "      <td>0.7920</td>\n",
       "      <td>5</td>\n",
       "      <td>1298937600</td>\n",
       "      <td>great kitty treats</td>\n",
       "      <td>My cat loves these treats. If ever I can't fin...</td>\n",
       "    </tr>\n",
       "    <tr>\n",
       "      <th>2</th>\n",
       "      <td>427828</td>\n",
       "      <td>0.674685</td>\n",
       "      <td>0.295431</td>\n",
       "      <td>0.029884</td>\n",
       "      <td>0.000</td>\n",
       "      <td>0.880</td>\n",
       "      <td>0.120</td>\n",
       "      <td>0.4588</td>\n",
       "      <td>3</td>\n",
       "      <td>1224028800</td>\n",
       "      <td>COFFEE TASTE</td>\n",
       "      <td>A little less than I expected.  It tends to ha...</td>\n",
       "    </tr>\n",
       "    <tr>\n",
       "      <th>3</th>\n",
       "      <td>433955</td>\n",
       "      <td>0.077575</td>\n",
       "      <td>0.643972</td>\n",
       "      <td>0.278453</td>\n",
       "      <td>0.009</td>\n",
       "      <td>0.827</td>\n",
       "      <td>0.163</td>\n",
       "      <td>0.9923</td>\n",
       "      <td>2</td>\n",
       "      <td>1335312000</td>\n",
       "      <td>So the Mini-Wheats were too big?</td>\n",
       "      <td>First there was Frosted Mini-Wheats, in origin...</td>\n",
       "    </tr>\n",
       "    <tr>\n",
       "      <th>4</th>\n",
       "      <td>70261</td>\n",
       "      <td>0.008609</td>\n",
       "      <td>0.034906</td>\n",
       "      <td>0.956485</td>\n",
       "      <td>0.089</td>\n",
       "      <td>0.719</td>\n",
       "      <td>0.191</td>\n",
       "      <td>0.9421</td>\n",
       "      <td>5</td>\n",
       "      <td>1334707200</td>\n",
       "      <td>Great Taste . . .</td>\n",
       "      <td>and I want to congratulate the graphic artist ...</td>\n",
       "    </tr>\n",
       "  </tbody>\n",
       "</table>\n",
       "</div>"
      ],
      "text/plain": [
       "       Id  roberta_neg  roberta_neu  roberta_pos  vader_neg  vader_neu  \\\n",
       "0  165257     0.006664     0.051202     0.942134      0.000      0.768   \n",
       "1  231466     0.012858     0.064116     0.923026      0.089      0.766   \n",
       "2  427828     0.674685     0.295431     0.029884      0.000      0.880   \n",
       "3  433955     0.077575     0.643972     0.278453      0.009      0.827   \n",
       "4   70261     0.008609     0.034906     0.956485      0.089      0.719   \n",
       "\n",
       "   vader_pos  vader_compound  Score        Time  \\\n",
       "0      0.232          0.9684      5  1268179200   \n",
       "1      0.144          0.7920      5  1298937600   \n",
       "2      0.120          0.4588      3  1224028800   \n",
       "3      0.163          0.9923      2  1335312000   \n",
       "4      0.191          0.9421      5  1334707200   \n",
       "\n",
       "                                        Summary  \\\n",
       "0  Crunchy & Good Gluten-Free Sandwich Cookies!   \n",
       "1                            great kitty treats   \n",
       "2                                  COFFEE TASTE   \n",
       "3              So the Mini-Wheats were too big?   \n",
       "4                             Great Taste . . .   \n",
       "\n",
       "                                                Text  \n",
       "0  Having tried a couple of other brands of glute...  \n",
       "1  My cat loves these treats. If ever I can't fin...  \n",
       "2  A little less than I expected.  It tends to ha...  \n",
       "3  First there was Frosted Mini-Wheats, in origin...  \n",
       "4  and I want to congratulate the graphic artist ...  "
      ]
     },
     "execution_count": 26,
     "metadata": {},
     "output_type": "execute_result"
    }
   ],
   "source": [
    "data = pd.read_csv('vader.csv')\n",
    "data.head()"
   ]
  },
  {
   "cell_type": "code",
   "execution_count": 27,
   "metadata": {},
   "outputs": [
    {
     "data": {
      "text/plain": [
       "Id                                                           280021\n",
       "roberta_neg                                                0.906807\n",
       "roberta_neu                                                0.078537\n",
       "roberta_pos                                                0.014656\n",
       "vader_neg                                                     0.124\n",
       "vader_neu                                                     0.643\n",
       "vader_pos                                                     0.233\n",
       "vader_compound                                               0.6795\n",
       "Score                                                             1\n",
       "Time                                                     1233792000\n",
       "Summary           very brittle, breaks much too easily, choking ...\n",
       "Text              I was definately expecting a better product fr...\n",
       "Name: 70, dtype: object"
      ]
     },
     "execution_count": 27,
     "metadata": {},
     "output_type": "execute_result"
    }
   ],
   "source": [
    "data[data['Score'] <=3].sort_values('vader_pos', ascending=False).iloc[8]"
   ]
  },
  {
   "cell_type": "code",
   "execution_count": 28,
   "metadata": {},
   "outputs": [
    {
     "data": {
      "image/png": "[encoded data removed]",
      "text/plain": [
       "<Figure size 500x600 with 1 Axes>"
      ]
     },
     "metadata": {},
     "output_type": "display_data"
    }
   ],
   "source": [
    "plt.figure(figsize=(5, 6))\n",
    "\n",
    "# Define the data\n",
    "x_labels = ['Negativity', 'Neutrality', 'Positivity']\n",
    "y_values = [0.124, 0.643, 0.233]\n",
    "\n",
    "# Create the bar plot\n",
    "sns.barplot(x=x_labels, y=y_values, palette=['blue', 'orange', 'green'])\n",
    "# Show the plot\n",
    "plt.show()\n"
   ]
  },
  {
   "cell_type": "code",
   "execution_count": 29,
   "metadata": {},
   "outputs": [
    {
     "data": {
      "text/plain": [
       "(496, 12)"
      ]
     },
     "execution_count": 29,
     "metadata": {},
     "output_type": "execute_result"
    }
   ],
   "source": [
    "data.shape"
   ]
  },
  {
   "cell_type": "markdown",
   "metadata": {},
   "source": [
    "## **BUILDING THE MODEL**"
   ]
  },
  {
   "cell_type": "code",
   "execution_count": 31,
   "metadata": {},
   "outputs": [],
   "source": [
    "from sklearn.model_selection import train_test_split\n",
    "from sklearn.tree import DecisionTreeClassifier\n",
    "from sklearn.ensemble import RandomForestClassifier\n",
    "from sklearn.metrics import classification_report, precision_score, f1_score, recall_score"
   ]
  },
  {
   "cell_type": "markdown",
   "metadata": {},
   "source": [
    "#### **ROBERTA MODEL**"
   ]
  },
  {
   "cell_type": "code",
   "execution_count": 32,
   "metadata": {},
   "outputs": [],
   "source": [
    "roberta_x = data[['roberta_neg', 'roberta_neu', 'roberta_pos']]\n",
    "roberta_y = data['Score']"
   ]
  },
  {
   "cell_type": "code",
   "execution_count": 33,
   "metadata": {},
   "outputs": [
    {
     "name": "stdout",
     "output_type": "stream",
     "text": [
      "(396, 3)\n",
      "(100, 3)\n"
     ]
    }
   ],
   "source": [
    "roberta_x_train, roberta_x_test, roberta_y_train, roberta_y_test = \\\n",
    "    train_test_split(roberta_x, roberta_y, random_state=42, test_size=0.2)\n",
    "    \n",
    "print(roberta_x_train.shape)\n",
    "print(roberta_x_test.shape)"
   ]
  },
  {
   "cell_type": "code",
   "execution_count": 34,
   "metadata": {},
   "outputs": [
    {
     "name": "stdout",
     "output_type": "stream",
     "text": [
      "f1_score:  0.5992062836830638\n",
      "recall_score:  0.65\n",
      "precision_score:  0.5629497716894977\n"
     ]
    }
   ],
   "source": [
    "random = RandomForestClassifier()\n",
    "random.fit(roberta_x_train, roberta_y_train)\n",
    "y_pred = random.predict(roberta_x_test)\n",
    "print('f1_score: ', f1_score(roberta_y_test, y_pred, average='weighted'))\n",
    "print('recall_score: ', recall_score(roberta_y_test, y_pred, average='weighted'))\n",
    "print('precision_score: ', precision_score(roberta_y_test, y_pred, average='weighted'))"
   ]
  },
  {
   "cell_type": "markdown",
   "metadata": {},
   "source": [
    "#### **VADER MODEL**"
   ]
  },
  {
   "cell_type": "code",
   "execution_count": 35,
   "metadata": {},
   "outputs": [],
   "source": [
    "vader_x = data[['vader_neg',\n",
    "       'vader_neu', 'vader_pos', 'vader_compound']]\n",
    "vader_y = data['Score']"
   ]
  },
  {
   "cell_type": "code",
   "execution_count": 36,
   "metadata": {},
   "outputs": [
    {
     "name": "stdout",
     "output_type": "stream",
     "text": [
      "(396, 4)\n",
      "(100, 4)\n"
     ]
    }
   ],
   "source": [
    "vader_x_train, vader_x_test, vader_y_train, vader_y_test = train_test_split(vader_x, vader_y, random_state=42, test_size=0.2)\n",
    "print(vader_x_train.shape)\n",
    "print(vader_x_test.shape)"
   ]
  },
  {
   "cell_type": "code",
   "execution_count": 40,
   "metadata": {},
   "outputs": [
    {
     "name": "stdout",
     "output_type": "stream",
     "text": [
      "f1_score:  0.5100675675675675\n",
      "recall_score:  0.59\n",
      "precision_score:  0.5109302325581395\n"
     ]
    }
   ],
   "source": [
    "random = RandomForestClassifier()\n",
    "random.fit(vader_x_train, vader_y_train)\n",
    "y_pred = random.predict(vader_x_test)\n",
    "print('f1_score: ', f1_score(vader_y_test, y_pred, average= 'weighted'))\n",
    "print('recall_score: ', recall_score(vader_y_test, y_pred, average= 'weighted'))\n",
    "print('precision_score: ', precision_score(vader_y_test, y_pred, average= 'weighted'))"
   ]
  }
 ],
 "metadata": {
  "kernelspec": {
   "display_name": "Python 3",
   "language": "python",
   "name": "python3"
  },
  "language_info": {
   "codemirror_mode": {
    "name": "ipython",
    "version": 3
   },
   "file_extension": ".py",
   "mimetype": "text/x-python",
   "name": "python",
   "nbconvert_exporter": "python",
   "pygments_lexer": "ipython3",
   "version": "3.10.4"
  }
 },
 "nbformat": 4,
 "nbformat_minor": 2
}
